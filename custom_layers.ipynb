{
 "metadata": {
  "language_info": {
   "codemirror_mode": {
    "name": "ipython",
    "version": 3
   },
   "file_extension": ".py",
   "mimetype": "text/x-python",
   "name": "python",
   "nbconvert_exporter": "python",
   "pygments_lexer": "ipython3",
   "version": "3.8.1-final"
  },
  "orig_nbformat": 2,
  "kernelspec": {
   "name": "Python 3.8.1 64-bit ('venv')",
   "display_name": "Python 3.8.1 64-bit ('venv')",
   "metadata": {
    "interpreter": {
     "hash": "0bd932a2d4fdef5dab040c9dcc9a4c75c8c836095a87c234e4ef5e57fd25ae6f"
    }
   }
  }
 },
 "nbformat": 4,
 "nbformat_minor": 2,
 "cells": [
  {
   "cell_type": "code",
   "execution_count": 11,
   "metadata": {},
   "outputs": [],
   "source": [
    "## Custom Plots On Geographic Maps"
   ]
  },
  {
   "cell_type": "code",
   "execution_count": 8,
   "metadata": {},
   "outputs": [],
   "source": [
    "from PIL import Image, ImageDraw\n",
    "import numpy as np\n",
    "import pandas as pd\n",
    "import folium\n",
    "import matplotlib.pyplot as plt\n",
    "import matplotlib.colors\n",
    "from matplotlib.colors import LinearSegmentedColormap, rgb_to_hsv, hsv_to_rgb\n",
    "import scipy.ndimage.filters"
   ]
  },
  {
   "cell_type": "code",
   "execution_count": 4,
   "metadata": {},
   "outputs": [
    {
     "output_type": "execute_result",
     "data": {
      "text/plain": "   Trip Duration          Start Time           Stop Time  Start Station ID  \\\n0            328 2016-10-01 00:00:07 2016-10-01 00:05:35               471   \n1            398 2016-10-01 00:00:11 2016-10-01 00:06:49              3147   \n2            430 2016-10-01 00:00:14 2016-10-01 00:07:25               345   \n3            351 2016-10-01 00:00:21 2016-10-01 00:06:12              3307   \n4           2693 2016-10-01 00:00:21 2016-10-01 00:45:15              3428   \n\n        Start Station Name  Start Station Latitude  Start Station Longitude  \\\n0  Grand St &amp; Havemeyer St               40.712868               -73.956981   \n1          E 85 St &amp; 3 Ave               40.778012               -73.954071   \n2          W 13 St &amp; 6 Ave               40.736494               -73.997044   \n3   West End Ave &amp; W 94 St               40.794165               -73.974124   \n4          8 Ave &amp; W 16 St               40.740983               -74.001702   \n\n   End Station ID              End Station Name  End Station Latitude  \\\n0            3077          Stagg St &amp; Union Ave             40.708771   \n1            3140               1 Ave &amp; E 78 St             40.771404   \n2             470               W 20 St &amp; 8 Ave             40.743453   \n3            3357      W 106 St &amp; Amsterdam Ave             40.800836   \n4            3323  W 106 St &amp; Central Park West             40.798186   \n\n   End Station Longitude  Bike ID   User Type  Birth Year  Gender  hour  \n0             -73.950953    25254  Subscriber      1992.0       1     0  \n1             -73.953517    17810  Subscriber      1988.0       2     0  \n2             -74.000040    20940  Subscriber      1965.0       1     0  \n3             -73.966449    19086  Subscriber      1993.0       1     0  \n4             -73.960591    26502  Subscriber      1991.0       1     0  ",
      "text/html": "<div>\n<style scoped>\n    .dataframe tbody tr th:only-of-type {\n        vertical-align: middle;\n    }\n\n    .dataframe tbody tr th {\n        vertical-align: top;\n    }\n\n    .dataframe thead th {\n        text-align: right;\n    }\n</style>\n<table border=\"1\" class=\"dataframe\">\n  <thead>\n    <tr style=\"text-align: right;\">\n      <th></th>\n      <th>Trip Duration</th>\n      <th>Start Time</th>\n      <th>Stop Time</th>\n      <th>Start Station ID</th>\n      <th>Start Station Name</th>\n      <th>Start Station Latitude</th>\n      <th>Start Station Longitude</th>\n      <th>End Station ID</th>\n      <th>End Station Name</th>\n      <th>End Station Latitude</th>\n      <th>End Station Longitude</th>\n      <th>Bike ID</th>\n      <th>User Type</th>\n      <th>Birth Year</th>\n      <th>Gender</th>\n      <th>hour</th>\n    </tr>\n  </thead>\n  <tbody>\n    <tr>\n      <th>0</th>\n      <td>328</td>\n      <td>2016-10-01 00:00:07</td>\n      <td>2016-10-01 00:05:35</td>\n      <td>471</td>\n      <td>Grand St &amp; Havemeyer St</td>\n      <td>40.712868</td>\n      <td>-73.956981</td>\n      <td>3077</td>\n      <td>Stagg St &amp; Union Ave</td>\n      <td>40.708771</td>\n      <td>-73.950953</td>\n      <td>25254</td>\n      <td>Subscriber</td>\n      <td>1992.0</td>\n      <td>1</td>\n      <td>0</td>\n    </tr>\n    <tr>\n      <th>1</th>\n      <td>398</td>\n      <td>2016-10-01 00:00:11</td>\n      <td>2016-10-01 00:06:49</td>\n      <td>3147</td>\n      <td>E 85 St &amp; 3 Ave</td>\n      <td>40.778012</td>\n      <td>-73.954071</td>\n      <td>3140</td>\n      <td>1 Ave &amp; E 78 St</td>\n      <td>40.771404</td>\n      <td>-73.953517</td>\n      <td>17810</td>\n      <td>Subscriber</td>\n      <td>1988.0</td>\n      <td>2</td>\n      <td>0</td>\n    </tr>\n    <tr>\n      <th>2</th>\n      <td>430</td>\n      <td>2016-10-01 00:00:14</td>\n      <td>2016-10-01 00:07:25</td>\n      <td>345</td>\n      <td>W 13 St &amp; 6 Ave</td>\n      <td>40.736494</td>\n      <td>-73.997044</td>\n      <td>470</td>\n      <td>W 20 St &amp; 8 Ave</td>\n      <td>40.743453</td>\n      <td>-74.000040</td>\n      <td>20940</td>\n      <td>Subscriber</td>\n      <td>1965.0</td>\n      <td>1</td>\n      <td>0</td>\n    </tr>\n    <tr>\n      <th>3</th>\n      <td>351</td>\n      <td>2016-10-01 00:00:21</td>\n      <td>2016-10-01 00:06:12</td>\n      <td>3307</td>\n      <td>West End Ave &amp; W 94 St</td>\n      <td>40.794165</td>\n      <td>-73.974124</td>\n      <td>3357</td>\n      <td>W 106 St &amp; Amsterdam Ave</td>\n      <td>40.800836</td>\n      <td>-73.966449</td>\n      <td>19086</td>\n      <td>Subscriber</td>\n      <td>1993.0</td>\n      <td>1</td>\n      <td>0</td>\n    </tr>\n    <tr>\n      <th>4</th>\n      <td>2693</td>\n      <td>2016-10-01 00:00:21</td>\n      <td>2016-10-01 00:45:15</td>\n      <td>3428</td>\n      <td>8 Ave &amp; W 16 St</td>\n      <td>40.740983</td>\n      <td>-74.001702</td>\n      <td>3323</td>\n      <td>W 106 St &amp; Central Park West</td>\n      <td>40.798186</td>\n      <td>-73.960591</td>\n      <td>26502</td>\n      <td>Subscriber</td>\n      <td>1991.0</td>\n      <td>1</td>\n      <td>0</td>\n    </tr>\n  </tbody>\n</table>\n</div>"
     },
     "metadata": {},
     "execution_count": 4
    }
   ],
   "source": [
    "bike_data = pd.read_csv(\"201610-citibike-tripdata.csv\")\n",
    "bike_data[\"Start Time\"] = pd.to_datetime(bike_data[\"Start Time\"])\n",
    "bike_data[\"Stop Time\"] = pd.to_datetime(bike_data[\"Stop Time\"])\n",
    "bike_data[\"hour\"] = bike_data[\"Start Time\"].map(lambda x: x.hour)\n",
    "bike_data.head()"
   ]
  },
  {
   "cell_type": "code",
   "execution_count": null,
   "metadata": {},
   "outputs": [],
   "source": []
  }
 ]
}